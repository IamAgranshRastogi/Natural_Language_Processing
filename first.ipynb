{
  "nbformat": 4,
  "nbformat_minor": 0,
  "metadata": {
    "colab": {
      "provenance": [],
      "authorship_tag": "ABX9TyP1bMbk++c+e7OqKNGRhFz0",
      "include_colab_link": true
    },
    "kernelspec": {
      "name": "python3",
      "display_name": "Python 3"
    },
    "language_info": {
      "name": "python"
    }
  },
  "cells": [
    {
      "cell_type": "markdown",
      "metadata": {
        "id": "view-in-github",
        "colab_type": "text"
      },
      "source": [
        "<a href=\"https://colab.research.google.com/github/IamAgranshRastogi/Natural_Language_Processing/blob/main/first.ipynb\" target=\"_parent\"><img src=\"https://colab.research.google.com/assets/colab-badge.svg\" alt=\"Open In Colab\"/></a>"
      ]
    },
    {
      "cell_type": "markdown",
      "source": [
        "#NLP Steps\n",
        "* text classification\n",
        "* text similarity\n",
        "* text extraction\n",
        "* text retrieval\n",
        "* text summarizations\n",
        "* voice assistants\n",
        "* chatbots\n",
        "* Machine Translations"
      ],
      "metadata": {
        "id": "04t4-A0LqVVD"
      }
    },
    {
      "cell_type": "markdown",
      "source": [
        "#NLP Pipeline\n",
        "* Data Acquisition\n",
        "* Discard Irrelevant Information\n",
        "* Spelling Auto Correction\n",
        "* Removing Extra Line Breaks\n",
        "* Sentence Segmentations/Tokenizations\n",
        "* Word Tokenization\n",
        "* Stemming\n",
        "* Lemmatization\n",
        "* Feature Engg\n",
        "* ML\n"
      ],
      "metadata": {
        "id": "3_A96mYHreF_"
      }
    },
    {
      "cell_type": "code",
      "source": [
        "#Simple Rule bases chatbot\n",
        "from nltk.chat.util import Chat, reflections"
      ],
      "metadata": {
        "id": "ophV8jtZvFg8"
      },
      "execution_count": null,
      "outputs": []
    },
    {
      "cell_type": "code",
      "source": [
        "#------------------create list of queries ---------------------#\n",
        "\n",
        "cov =[\n",
        "    [\n",
        "        r\"(.*)my name is (.*)\", #request\n",
        "        [\"Hello %2, How are you today ?\",] #response\n",
        "    ],\n",
        "    [\n",
        "        r\"(.*)help(.*) \",\n",
        "        [\"I can help you \",]\n",
        "    ],\n",
        "     [\n",
        "        r\"(.*) your name ?\",\n",
        "        [\"My name is Tomii, but you can just call me robot and I'm a chatbot .\",]\n",
        "    ],\n",
        "    [\n",
        "        r\"how are you (.*) ?\",\n",
        "        [\"I'm doing very well\", \"i am great !\"]\n",
        "    ],\n",
        "    [\n",
        "        r\"sorry (.*)\",\n",
        "        [\"Its alright\",\"Its OK, never mind that\",]\n",
        "    ],\n",
        "    [\n",
        "        r\"i'm (.*) (good|well|okay|ok)\",\n",
        "        [\"Nice to hear that\",\"Alright, great !\",]\n",
        "    ],\n",
        "    [\n",
        "        r\"(hi|hey|hello|hola|holla)(.*)\",\n",
        "        [\"Hello\", \"Hey there\",]\n",
        "    ],\n",
        "    [\n",
        "        r\"what (.*) want ?\",\n",
        "        [\"Make me an offer I can't refuse\",]\n",
        "    ],\n",
        "    [\n",
        "        r\"(.*)created(.*)\",\n",
        "        [\"Vishvanath Metkari created me using Python's NLTK library \",\"top secret ;)\",]\n",
        "    ],\n",
        "    [\n",
        "        r\"(.*) (location|city) ?\",\n",
        "        ['New Delhi, India',]\n",
        "    ],\n",
        "    [\n",
        "        r\"(.*)raining in (.*)\",\n",
        "        [\"No rain in the past 4 days here in %2\",\"In %2 there is a 50% chance of rain\",]\n",
        "    ],\n",
        "    [\n",
        "        r\"how (.*) health (.*)\",\n",
        "        [\"Health is very important, but I am a computer, so I don't need to worry about my health \",]\n",
        "    ],\n",
        "    [\n",
        "        r\"(.*)(sports|game|sport)(.*)\",\n",
        "        [\"I'm a very big fan of Cricket\",]\n",
        "    ],\n",
        "    [\n",
        "        r\"who (.*) (Cricketer|Batsman)?\",\n",
        "        [\"Virat Kohli\"]\n",
        "    ],\n",
        "    [\n",
        "        r\"quit\",\n",
        "        [\"Bye for now. See you soon :) \",\"It was nice talking to you. See you soon :)\"]\n",
        "    ],\n",
        "    [\n",
        "        r\"(.*)\",\n",
        "        ['That is nice to hear']\n",
        "    ]\n",
        "]"
      ],
      "metadata": {
        "id": "mywC9Zc4vjvN"
      },
      "execution_count": null,
      "outputs": []
    },
    {
      "cell_type": "code",
      "source": [
        "print(reflections)"
      ],
      "metadata": {
        "colab": {
          "base_uri": "https://localhost:8080/"
        },
        "id": "iuJAUbH806xA",
        "outputId": "70740504-102b-4e02-f8cd-2aaf3ad14060"
      },
      "execution_count": null,
      "outputs": [
        {
          "output_type": "stream",
          "name": "stdout",
          "text": [
            "{'i am': 'you are', 'i was': 'you were', 'i': 'you', \"i'm\": 'you are', \"i'd\": 'you would', \"i've\": 'you have', \"i'll\": 'you will', 'my': 'your', 'you are': 'I am', 'you were': 'I was', \"you've\": 'I have', \"you'll\": 'I will', 'your': 'my', 'yours': 'mine', 'you': 'me', 'me': 'you'}\n"
          ]
        }
      ]
    },
    {
      "cell_type": "code",
      "source": [
        "print(\"Hey , how can I help you\")\n",
        "\n",
        " #chat = Chat(cov,reflections)\n",
        "# chat.converse()"
      ],
      "metadata": {
        "colab": {
          "base_uri": "https://localhost:8080/"
        },
        "id": "w7qdTmzBvslK",
        "outputId": "701ae5ea-2a71-47b8-eae3-fc86ec45bf0c"
      },
      "execution_count": null,
      "outputs": [
        {
          "output_type": "stream",
          "name": "stdout",
          "text": [
            "Hey , how can I help you\n"
          ]
        }
      ]
    },
    {
      "cell_type": "code",
      "source": [
        "my_reflections={\n",
        "    \"health\":\"healthy\",\n",
        "    \"Hey\":\"Hello\"\n",
        "}"
      ],
      "metadata": {
        "id": "9Qdgfbbiz6B6"
      },
      "execution_count": null,
      "outputs": []
    },
    {
      "cell_type": "code",
      "source": [
        "print(\"Hello world I am Mahesh\")\n",
        "chat = Chat(cov,reflections)"
      ],
      "metadata": {
        "colab": {
          "base_uri": "https://localhost:8080/"
        },
        "id": "8zqoIptt0e-K",
        "outputId": "4c4f0127-7679-4d9f-c7fd-3504eff7e3d2"
      },
      "execution_count": null,
      "outputs": [
        {
          "output_type": "stream",
          "name": "stdout",
          "text": [
            "Hello world I am Mahesh\n"
          ]
        }
      ]
    }
  ]
}