{
  "nbformat": 4,
  "nbformat_minor": 0,
  "metadata": {
    "colab": {
      "provenance": [],
      "include_colab_link": true
    },
    "kernelspec": {
      "name": "python3",
      "display_name": "Python 3"
    },
    "language_info": {
      "name": "python"
    }
  },
  "cells": [
    {
      "cell_type": "markdown",
      "metadata": {
        "id": "view-in-github",
        "colab_type": "text"
      },
      "source": [
        "<a href=\"https://colab.research.google.com/github/IamAgranshRastogi/Natural_Language_Processing/blob/main/Q3_Jaccard_coefficient.ipynb\" target=\"_parent\"><img src=\"https://colab.research.google.com/assets/colab-badge.svg\" alt=\"Open In Colab\"/></a>"
      ]
    },
    {
      "cell_type": "code",
      "execution_count": null,
      "metadata": {
        "colab": {
          "base_uri": "https://localhost:8080/"
        },
        "id": "zZeDmbtDR6cn",
        "outputId": "c12f3c85-3faa-4733-9d12-a2268af0c80c"
      },
      "outputs": [
        {
          "output_type": "stream",
          "name": "stderr",
          "text": [
            "[nltk_data] Downloading package punkt to /root/nltk_data...\n",
            "[nltk_data]   Unzipping tokenizers/punkt.zip.\n"
          ]
        },
        {
          "output_type": "stream",
          "name": "stdout",
          "text": [
            "Similarity between d1 and d2 is 1 0.1111111111111111\n",
            "Similarity between d1 and d3 is  0.0\n"
          ]
        }
      ],
      "source": [
        "import os\n",
        "\n",
        "import nltk.corpus\n",
        "nltk.download('punkt')\n",
        "\n",
        "from nltk. tokenize import word_tokenize\n",
        "from nltk.util import bigrams, trigrams, ngrams\n",
        "\n",
        "d1= 'Jack London traveled to Oakland'\n",
        "d2= 'Jack traveled to the city of Oakland'\n",
        "\n",
        "d3= 'Jack traveled from Oakland to London'\n",
        "\n",
        "#Tokenizing the Strings\n",
        "\n",
        "d1_tokens =word_tokenize(d1)\n",
        "\n",
        "d2_tokens =word_tokenize(d2)\n",
        "d3_tokens=word_tokenize (d3)\n",
        "\n",
        "#Making shingles\n",
        "d1_shingle =list(nltk.ngrams(d1_tokens, 2))\n",
        "\n",
        "d2_shingle = list(nltk.ngrams(d2_tokens, 2))\n",
        "\n",
        "d3_shingle = list(nltk.ngrams(d3_tokens,2))\n",
        "\n",
        "\n",
        "#Jaccard Similarity Formula\n",
        "\n",
        "def jaccard_set(list1, list2):\n",
        "  intersection=len(list(set(list1).intersection(list2)))\n",
        "  union=(len(list1)+ len(list2)) - intersection\n",
        "  return float(intersection) / union\n",
        "\n",
        "print(\"Similarity between d1 and d2 is 1\", jaccard_set(d1_shingle, d2_shingle))\n",
        "print(\"Similarity between d1 and d3 is \",jaccard_set(d1_shingle,d3_shingle))"
      ]
    }
  ]
}