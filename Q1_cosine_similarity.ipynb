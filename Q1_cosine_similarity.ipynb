{
  "nbformat": 4,
  "nbformat_minor": 0,
  "metadata": {
    "colab": {
      "provenance": [],
      "include_colab_link": true
    },
    "kernelspec": {
      "name": "python3",
      "display_name": "Python 3"
    },
    "language_info": {
      "name": "python"
    }
  },
  "cells": [
    {
      "cell_type": "markdown",
      "metadata": {
        "id": "view-in-github",
        "colab_type": "text"
      },
      "source": [
        "<a href=\"https://colab.research.google.com/github/IamAgranshRastogi/Natural_Language_Processing/blob/main/Q1_cosine_similarity.ipynb\" target=\"_parent\"><img src=\"https://colab.research.google.com/assets/colab-badge.svg\" alt=\"Open In Colab\"/></a>"
      ]
    },
    {
      "cell_type": "code",
      "execution_count": null,
      "metadata": {
        "colab": {
          "base_uri": "https://localhost:8080/"
        },
        "id": "fOS6zYpgPDxk",
        "outputId": "61568903-ceb0-4365-8f3b-c1bdab5f22ac"
      },
      "outputs": [
        {
          "output_type": "stream",
          "name": "stdout",
          "text": [
            "A: [3 2 0 5]\n",
            "B: [1 0 0 0]\n",
            "Cosine Similarity: 0.48666426339228763\n"
          ]
        }
      ],
      "source": [
        "import numpy as np\n",
        "from numpy.linalg import norm\n",
        "\n",
        "# define two lists or array\n",
        "\n",
        "A= np.array([3,2,0,5])\n",
        "B= np.array([1,0,0,0])\n",
        "\n",
        "print(\"A:\", A)\n",
        "\n",
        "print(\"B:\", B)\n",
        "\n",
        "#compute cosine similarity\n",
        "cosine = np.dot(A,B)/(norm(A) *norm(B))\n",
        "print(\"Cosine Similarity:\",cosine)"
      ]
    },
    {
      "cell_type": "code",
      "source": [],
      "metadata": {
        "id": "W1q6piqwP19j"
      },
      "execution_count": null,
      "outputs": []
    }
  ]
}