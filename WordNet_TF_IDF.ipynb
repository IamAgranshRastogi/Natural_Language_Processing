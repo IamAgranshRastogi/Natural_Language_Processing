{
  "nbformat": 4,
  "nbformat_minor": 0,
  "metadata": {
    "colab": {
      "provenance": [],
      "authorship_tag": "ABX9TyNzIfxLRPAYl+sO2Y1YcupE",
      "include_colab_link": true
    },
    "kernelspec": {
      "name": "python3",
      "display_name": "Python 3"
    },
    "language_info": {
      "name": "python"
    }
  },
  "cells": [
    {
      "cell_type": "markdown",
      "metadata": {
        "id": "view-in-github",
        "colab_type": "text"
      },
      "source": [
        "<a href=\"https://colab.research.google.com/github/IamAgranshRastogi/Natural_Language_Processing/blob/main/WordNet_TF_IDF.ipynb\" target=\"_parent\"><img src=\"https://colab.research.google.com/assets/colab-badge.svg\" alt=\"Open In Colab\"/></a>"
      ]
    },
    {
      "cell_type": "code",
      "execution_count": null,
      "metadata": {
        "colab": {
          "base_uri": "https://localhost:8080/"
        },
        "id": "UzJTMOrM_8__",
        "outputId": "79b23b08-a905-4c0f-e37b-9c523b0e2c91"
      },
      "outputs": [
        {
          "output_type": "stream",
          "name": "stderr",
          "text": [
            "[nltk_data] Downloading package wordnet to /root/nltk_data...\n",
            "[nltk_data]   Package wordnet is already up-to-date!\n",
            "[nltk_data] Downloading package omw-1.4 to /root/nltk_data...\n"
          ]
        },
        {
          "output_type": "stream",
          "name": "stdout",
          "text": [
            "Synset('fun.n.01')\n",
            "Synset('fun.n.02')\n",
            "Synset('fun.n.03')\n",
            "Synset('playfulness.n.02')\n"
          ]
        }
      ],
      "source": [
        "import nltk\n",
        "from nltk.corpus import wordnet\n",
        "nltk.download('wordnet')\n",
        "nltk.download('omw-1.4')\n",
        "for words in wordnet.synsets(\"Fun\"):\n",
        "   print(words)\n",
        "# To check how many different definitions of a wors are available in WordNet"
      ]
    },
    {
      "cell_type": "code",
      "source": [
        "for words in wordnet.synsets(\"Fun\"):\n",
        "  for lemma in words.lemmas():\n",
        "    print(lemma)\n",
        "  print(\"\\n\")"
      ],
      "metadata": {
        "colab": {
          "base_uri": "https://localhost:8080/"
        },
        "id": "Bdu0UpykAqsj",
        "outputId": "f18579c4-2baf-411f-f998-ec69ae7c6a9b"
      },
      "execution_count": null,
      "outputs": [
        {
          "output_type": "stream",
          "name": "stdout",
          "text": [
            "Lemma('fun.n.01.fun')\n",
            "Lemma('fun.n.01.merriment')\n",
            "Lemma('fun.n.01.playfulness')\n",
            "\n",
            "\n",
            "Lemma('fun.n.02.fun')\n",
            "Lemma('fun.n.02.play')\n",
            "Lemma('fun.n.02.sport')\n",
            "\n",
            "\n",
            "Lemma('fun.n.03.fun')\n",
            "\n",
            "\n",
            "Lemma('playfulness.n.02.playfulness')\n",
            "Lemma('playfulness.n.02.fun')\n",
            "\n",
            "\n"
          ]
        }
      ]
    },
    {
      "cell_type": "code",
      "source": [
        "word=wordnet.synsets(\"Play\")[0]\n",
        "\n",
        "#Checking name\n",
        "print(word.name())\n",
        "\n",
        "print(word.definition())\n",
        "\n",
        "print(word.examples())\n"
      ],
      "metadata": {
        "colab": {
          "base_uri": "https://localhost:8080/"
        },
        "id": "-ngKV_DAAF04",
        "outputId": "2fa9e44b-ab57-4b90-d74d-f06a6b65fde1"
      },
      "execution_count": null,
      "outputs": [
        {
          "output_type": "stream",
          "name": "stdout",
          "text": [
            "play.n.01\n",
            "a dramatic work intended for performance by actors on a stage\n",
            "['he wrote several plays but only one was produced on Broadway']\n"
          ]
        }
      ]
    },
    {
      "cell_type": "code",
      "source": [],
      "metadata": {
        "id": "t1vDkYIcCmA5"
      },
      "execution_count": null,
      "outputs": []
    },
    {
      "cell_type": "markdown",
      "source": [
        "##Term Frequency / Inverse Document Frequency"
      ],
      "metadata": {
        "id": "5jzrFYoPFMf0"
      }
    },
    {
      "cell_type": "code",
      "source": [
        "import pandas as pd\n",
        "from sklearn.feature_extraction.text import TfidfVectorizer\n",
        "dataset=[\n",
        "    \"I enjoy reading about Machine Learning . And My is my PhD subject is Also Machine Learning\", # Word repetition in same sentence increases importance of word\n",
        "    \"I would enjoy a walk in the park\",# Word repetition in multiple sentences decreases importance of that word\n",
        "    \"I was reading in the library\"\n",
        "]"
      ],
      "metadata": {
        "id": "w5eYokzzDk6g"
      },
      "execution_count": null,
      "outputs": []
    },
    {
      "cell_type": "code",
      "source": [
        "tfIdfVectorizer=TfidfVectorizer(use_idf=True)\n",
        "tfIdf= tfIdfVectorizer.fit_transform(dataset)\n",
        "df=pd.DataFrame(tfIdf[0].T.todense(),index=tfIdfVectorizer.get_feature_names(),columns=[\"TF-IDF\"])\n",
        "df=df.sort_values('TF-IDF',ascending=False)\n",
        "print(df.head(25))"
      ],
      "metadata": {
        "colab": {
          "base_uri": "https://localhost:8080/"
        },
        "id": "ZO0wqAYhEdWX",
        "outputId": "842bc571-1112-46e7-b7bc-f5020b8bb88d"
      },
      "execution_count": null,
      "outputs": [
        {
          "output_type": "stream",
          "name": "stdout",
          "text": [
            "            TF-IDF\n",
            "my        0.424890\n",
            "machine   0.424890\n",
            "is        0.424890\n",
            "learning  0.424890\n",
            "subject   0.212445\n",
            "phd       0.212445\n",
            "also      0.212445\n",
            "about     0.212445\n",
            "and       0.212445\n",
            "enjoy     0.161570\n",
            "reading   0.161570\n",
            "library   0.000000\n",
            "in        0.000000\n",
            "park      0.000000\n",
            "the       0.000000\n",
            "walk      0.000000\n",
            "was       0.000000\n",
            "would     0.000000\n"
          ]
        },
        {
          "output_type": "stream",
          "name": "stderr",
          "text": [
            "/usr/local/lib/python3.7/dist-packages/sklearn/utils/deprecation.py:87: FutureWarning: Function get_feature_names is deprecated; get_feature_names is deprecated in 1.0 and will be removed in 1.2. Please use get_feature_names_out instead.\n",
            "  warnings.warn(msg, category=FutureWarning)\n"
          ]
        }
      ]
    },
    {
      "cell_type": "code",
      "source": [
        "#Import reqd libraries\n",
        "from sklearn.feature_extraction.text import CountVectorizer\n",
        "#Text for analysis\n",
        "sentences = [\"Jim and Pam travelled by the bus:\",\n",
        "             \"The train was late\",\n",
        "             \"The flight was full.Travelling by flight is expensive\"]\n",
        "#Create an object\n",
        "cv=CountVectorizer()\n",
        "#Generating output for Bag Of Words\n",
        "B_O_W = cv.fit_transform(sentences).toarray()\n",
        "#Total words with their index in model\n",
        "print(cv.vocabulary_)\n",
        "print(\"\\n\")\n",
        "print(cv.get_feature_names())\n",
        "print(\"\\n\")\n",
        "print(B_O_W)"
      ],
      "metadata": {
        "colab": {
          "base_uri": "https://localhost:8080/"
        },
        "id": "JLr3uQyMFJVJ",
        "outputId": "a8b90f1a-824a-4842-cb9a-9c76554785a5"
      },
      "execution_count": null,
      "outputs": [
        {
          "output_type": "stream",
          "name": "stdout",
          "text": [
            "{'jim': 7, 'and': 0, 'pam': 9, 'travelled': 12, 'by': 2, 'the': 10, 'bus': 1, 'train': 11, 'was': 14, 'late': 8, 'flight': 4, 'full': 5, 'travelling': 13, 'is': 6, 'expensive': 3}\n",
            "\n",
            "\n",
            "['and', 'bus', 'by', 'expensive', 'flight', 'full', 'is', 'jim', 'late', 'pam', 'the', 'train', 'travelled', 'travelling', 'was']\n",
            "\n",
            "\n",
            "[[1 1 1 0 0 0 0 1 0 1 1 0 1 0 0]\n",
            " [0 0 0 0 0 0 0 0 1 0 1 1 0 0 1]\n",
            " [0 0 1 1 2 1 1 0 0 0 1 0 0 1 1]]\n"
          ]
        },
        {
          "output_type": "stream",
          "name": "stderr",
          "text": [
            "/usr/local/lib/python3.7/dist-packages/sklearn/utils/deprecation.py:87: FutureWarning: Function get_feature_names is deprecated; get_feature_names is deprecated in 1.0 and will be removed in 1.2. Please use get_feature_names_out instead.\n",
            "  warnings.warn(msg, category=FutureWarning)\n"
          ]
        }
      ]
    }
  ]
}