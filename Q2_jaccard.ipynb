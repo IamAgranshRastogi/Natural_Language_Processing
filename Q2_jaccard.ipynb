{
  "nbformat": 4,
  "nbformat_minor": 0,
  "metadata": {
    "colab": {
      "provenance": [],
      "include_colab_link": true
    },
    "kernelspec": {
      "name": "python3",
      "display_name": "Python 3"
    },
    "language_info": {
      "name": "python"
    }
  },
  "cells": [
    {
      "cell_type": "markdown",
      "metadata": {
        "id": "view-in-github",
        "colab_type": "text"
      },
      "source": [
        "<a href=\"https://colab.research.google.com/github/IamAgranshRastogi/Natural_Language_Processing/blob/main/Q2_jaccard.ipynb\" target=\"_parent\"><img src=\"https://colab.research.google.com/assets/colab-badge.svg\" alt=\"Open In Colab\"/></a>"
      ]
    },
    {
      "cell_type": "code",
      "execution_count": 1,
      "metadata": {
        "colab": {
          "base_uri": "https://localhost:8080/"
        },
        "id": "9qexSB2kQgF0",
        "outputId": "58d14159-7af4-47a3-f376-8f8650bea7d9"
      },
      "outputs": [
        {
          "output_type": "stream",
          "name": "stdout",
          "text": [
            "Similarity between A and B is 0.375\n"
          ]
        }
      ],
      "source": [
        "import numpy as np\n",
        "\n",
        "def jaccard_set(list1, list2):\n",
        "\n",
        "    \"\"\"Define Jaccard Similarity function for two sets\"\"\"\n",
        "    intersection= len(list (set(list1). intersection (list2)))\n",
        "    union=(len(list1)+ len(list2)) - intersection\n",
        "    return float (intersection) / union\n",
        "\n",
        "# Define some binary vectors\n",
        "\n",
        "A=[0,1,2,5,6]\n",
        "\n",
        "B=[0,2,3,5,7,9]\n",
        "\n",
        "#Find similarity among the vectors\n",
        "\n",
        "simAB=jaccard_set(A, B)\n",
        "\n",
        "print(\"Similarity between A and B is\",simAB)"
      ]
    }
  ]
}